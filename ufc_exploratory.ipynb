{
 "cells": [
  {
   "cell_type": "code",
   "execution_count": 2,
   "metadata": {
    "collapsed": true
   },
   "outputs": [],
   "source": [
    "import pandas as pd\n",
    "df = pd.read_excel('basic_data.xlsx')"
   ]
  },
  {
   "cell_type": "code",
   "execution_count": 3,
   "outputs": [
    {
     "data": {
      "text/plain": "      Unnamed: 0            date                location  \\\n0            NaN  March 20, 2021  Las Vegas, Nevada, USA   \n1            NaN  March 20, 2021  Las Vegas, Nevada, USA   \n2            NaN  March 20, 2021  Las Vegas, Nevada, USA   \n3            NaN  March 20, 2021  Las Vegas, Nevada, USA   \n4            NaN  March 20, 2021  Las Vegas, Nevada, USA   \n...          ...             ...                     ...   \n6007         NaN  March 11, 1994   Denver, Colorado, USA   \n6008         NaN  March 11, 1994   Denver, Colorado, USA   \n6009         NaN  March 11, 1994   Denver, Colorado, USA   \n6010         NaN  March 11, 1994   Denver, Colorado, USA   \n6011         NaN  March 11, 1994   Denver, Colorado, USA   \n\n                     fight_type      R_fighter           B_fighter  \\\n0             Bantamweight Bout   Adrian Yanez       Gustavo Lopez   \n1             Middleweight Bout   Trevin Giles       Roman Dolidze   \n2              Heavyweight Bout    Tai Tuivasa     Harry Hunsucker   \n3      Women's Strawweight Bout  Cheyanne Buys   Montserrat Conejo   \n4     Women's Bantamweight Bout  Marion Reneau       Macy Chiasson   \n...                         ...            ...                 ...   \n6007           Open Weight Bout  Remco Pardoel  Alberta Cerra Leon   \n6008           Open Weight Bout   Orlando Wiet    Robert Lucarelli   \n6009           Open Weight Bout  Johnny Rhodes       David Levicki   \n6010           Open Weight Bout  Patrick Smith          Ray Wizard   \n6011           Open Weight Bout   Scott Morris      Sean Daugherty   \n\n                 winner            ref                win_by         format  \n0          Adrian Yanez  Chris Tognoni                KO/TKO  3 Rnd (5-5-5)  \n1          Trevin Giles      Herb Dean  Decision - Unanimous  3 Rnd (5-5-5)  \n2           Tai Tuivasa      Herb Dean                KO/TKO  3 Rnd (5-5-5)  \n3     Montserrat Conejo     Mark Smith  Decision - Unanimous  3 Rnd (5-5-5)  \n4         Macy Chiasson     Mark Smith  Decision - Unanimous  3 Rnd (5-5-5)  \n...                 ...            ...                   ...            ...  \n6007      Remco Pardoel  John McCarthy            Submission  No Time Limit  \n6008       Orlando Wiet  John McCarthy                KO/TKO  No Time Limit  \n6009      Johnny Rhodes  John McCarthy                KO/TKO  No Time Limit  \n6010      Patrick Smith  John McCarthy            Submission  No Time Limit  \n6011       Scott Morris  John McCarthy            Submission  No Time Limit  \n\n[6012 rows x 10 columns]",
      "text/html": "<div>\n<style scoped>\n    .dataframe tbody tr th:only-of-type {\n        vertical-align: middle;\n    }\n\n    .dataframe tbody tr th {\n        vertical-align: top;\n    }\n\n    .dataframe thead th {\n        text-align: right;\n    }\n</style>\n<table border=\"1\" class=\"dataframe\">\n  <thead>\n    <tr style=\"text-align: right;\">\n      <th></th>\n      <th>Unnamed: 0</th>\n      <th>date</th>\n      <th>location</th>\n      <th>fight_type</th>\n      <th>R_fighter</th>\n      <th>B_fighter</th>\n      <th>winner</th>\n      <th>ref</th>\n      <th>win_by</th>\n      <th>format</th>\n    </tr>\n  </thead>\n  <tbody>\n    <tr>\n      <th>0</th>\n      <td>NaN</td>\n      <td>March 20, 2021</td>\n      <td>Las Vegas, Nevada, USA</td>\n      <td>Bantamweight Bout</td>\n      <td>Adrian Yanez</td>\n      <td>Gustavo Lopez</td>\n      <td>Adrian Yanez</td>\n      <td>Chris Tognoni</td>\n      <td>KO/TKO</td>\n      <td>3 Rnd (5-5-5)</td>\n    </tr>\n    <tr>\n      <th>1</th>\n      <td>NaN</td>\n      <td>March 20, 2021</td>\n      <td>Las Vegas, Nevada, USA</td>\n      <td>Middleweight Bout</td>\n      <td>Trevin Giles</td>\n      <td>Roman Dolidze</td>\n      <td>Trevin Giles</td>\n      <td>Herb Dean</td>\n      <td>Decision - Unanimous</td>\n      <td>3 Rnd (5-5-5)</td>\n    </tr>\n    <tr>\n      <th>2</th>\n      <td>NaN</td>\n      <td>March 20, 2021</td>\n      <td>Las Vegas, Nevada, USA</td>\n      <td>Heavyweight Bout</td>\n      <td>Tai Tuivasa</td>\n      <td>Harry Hunsucker</td>\n      <td>Tai Tuivasa</td>\n      <td>Herb Dean</td>\n      <td>KO/TKO</td>\n      <td>3 Rnd (5-5-5)</td>\n    </tr>\n    <tr>\n      <th>3</th>\n      <td>NaN</td>\n      <td>March 20, 2021</td>\n      <td>Las Vegas, Nevada, USA</td>\n      <td>Women's Strawweight Bout</td>\n      <td>Cheyanne Buys</td>\n      <td>Montserrat Conejo</td>\n      <td>Montserrat Conejo</td>\n      <td>Mark Smith</td>\n      <td>Decision - Unanimous</td>\n      <td>3 Rnd (5-5-5)</td>\n    </tr>\n    <tr>\n      <th>4</th>\n      <td>NaN</td>\n      <td>March 20, 2021</td>\n      <td>Las Vegas, Nevada, USA</td>\n      <td>Women's Bantamweight Bout</td>\n      <td>Marion Reneau</td>\n      <td>Macy Chiasson</td>\n      <td>Macy Chiasson</td>\n      <td>Mark Smith</td>\n      <td>Decision - Unanimous</td>\n      <td>3 Rnd (5-5-5)</td>\n    </tr>\n    <tr>\n      <th>...</th>\n      <td>...</td>\n      <td>...</td>\n      <td>...</td>\n      <td>...</td>\n      <td>...</td>\n      <td>...</td>\n      <td>...</td>\n      <td>...</td>\n      <td>...</td>\n      <td>...</td>\n    </tr>\n    <tr>\n      <th>6007</th>\n      <td>NaN</td>\n      <td>March 11, 1994</td>\n      <td>Denver, Colorado, USA</td>\n      <td>Open Weight Bout</td>\n      <td>Remco Pardoel</td>\n      <td>Alberta Cerra Leon</td>\n      <td>Remco Pardoel</td>\n      <td>John McCarthy</td>\n      <td>Submission</td>\n      <td>No Time Limit</td>\n    </tr>\n    <tr>\n      <th>6008</th>\n      <td>NaN</td>\n      <td>March 11, 1994</td>\n      <td>Denver, Colorado, USA</td>\n      <td>Open Weight Bout</td>\n      <td>Orlando Wiet</td>\n      <td>Robert Lucarelli</td>\n      <td>Orlando Wiet</td>\n      <td>John McCarthy</td>\n      <td>KO/TKO</td>\n      <td>No Time Limit</td>\n    </tr>\n    <tr>\n      <th>6009</th>\n      <td>NaN</td>\n      <td>March 11, 1994</td>\n      <td>Denver, Colorado, USA</td>\n      <td>Open Weight Bout</td>\n      <td>Johnny Rhodes</td>\n      <td>David Levicki</td>\n      <td>Johnny Rhodes</td>\n      <td>John McCarthy</td>\n      <td>KO/TKO</td>\n      <td>No Time Limit</td>\n    </tr>\n    <tr>\n      <th>6010</th>\n      <td>NaN</td>\n      <td>March 11, 1994</td>\n      <td>Denver, Colorado, USA</td>\n      <td>Open Weight Bout</td>\n      <td>Patrick Smith</td>\n      <td>Ray Wizard</td>\n      <td>Patrick Smith</td>\n      <td>John McCarthy</td>\n      <td>Submission</td>\n      <td>No Time Limit</td>\n    </tr>\n    <tr>\n      <th>6011</th>\n      <td>NaN</td>\n      <td>March 11, 1994</td>\n      <td>Denver, Colorado, USA</td>\n      <td>Open Weight Bout</td>\n      <td>Scott Morris</td>\n      <td>Sean Daugherty</td>\n      <td>Scott Morris</td>\n      <td>John McCarthy</td>\n      <td>Submission</td>\n      <td>No Time Limit</td>\n    </tr>\n  </tbody>\n</table>\n<p>6012 rows × 10 columns</p>\n</div>"
     },
     "execution_count": 3,
     "metadata": {},
     "output_type": "execute_result"
    }
   ],
   "source": [
    "df = pd.read_excel('basic_data.xlsx')\n",
    "\n",
    "df"
   ],
   "metadata": {
    "collapsed": false
   }
  },
  {
   "cell_type": "code",
   "execution_count": 4,
   "outputs": [
    {
     "data": {
      "text/plain": "Herb Dean           858\nJohn McCarthy       640\nDan Miragliotta     400\nMario Yamasaki      392\nMarc Goddard        346\nYves Lavigne        264\nSteve Mazzagatti    201\nLeon Roberts        192\nKeith Peterson      189\nJason Herzog        178\nName: ref, dtype: int64"
     },
     "execution_count": 4,
     "metadata": {},
     "output_type": "execute_result"
    }
   ],
   "source": [
    "# referees with highest number of fights\n",
    "\n",
    "df['ref'].value_counts().head(10)\n"
   ],
   "metadata": {
    "collapsed": false
   }
  },
  {
   "cell_type": "code",
   "execution_count": 5,
   "outputs": [
    {
     "name": "stdout",
     "output_type": "stream",
     "text": [
      "11.0\n"
     ]
    }
   ],
   "source": [
    "# get the counts for a specific fighter\n",
    "\n",
    "#grouping to combine both R_fighter and B_fighter columns\n",
    "r_fighter_counts = df.groupby('R_fighter').size()\n",
    "b_fighter_counts = df.groupby('B_fighter').size()\n",
    "combined_counts = r_fighter_counts.add(b_fighter_counts, fill_value=0)\n",
    "\n",
    "fighter_name = input(\"Fighter name: \")\n",
    "fighter_counts = combined_counts.loc[fighter_name]\n",
    "\n",
    "# print the counts for the fighter\n",
    "print(fighter_counts)"
   ],
   "metadata": {
    "collapsed": false
   }
  },
  {
   "cell_type": "code",
   "execution_count": 4,
   "outputs": [
    {
     "ename": "NameError",
     "evalue": "name 'combined_counts' is not defined",
     "output_type": "error",
     "traceback": [
      "\u001B[1;31m---------------------------------------------------------------------------\u001B[0m",
      "\u001B[1;31mNameError\u001B[0m                                 Traceback (most recent call last)",
      "\u001B[1;32m~\\AppData\\Local\\Temp\\ipykernel_1628\\1371169157.py\u001B[0m in \u001B[0;36m<module>\u001B[1;34m\u001B[0m\n\u001B[0;32m     10\u001B[0m \u001B[1;33m\u001B[0m\u001B[0m\n\u001B[0;32m     11\u001B[0m \u001B[1;31m#number of fights for a fighter\u001B[0m\u001B[1;33m\u001B[0m\u001B[1;33m\u001B[0m\u001B[0m\n\u001B[1;32m---> 12\u001B[1;33m \u001B[0mfighter_counts\u001B[0m \u001B[1;33m=\u001B[0m \u001B[0mcombined_counts\u001B[0m\u001B[1;33m.\u001B[0m\u001B[0mloc\u001B[0m\u001B[1;33m[\u001B[0m\u001B[0mfighter_name\u001B[0m\u001B[1;33m]\u001B[0m\u001B[1;33m\u001B[0m\u001B[1;33m\u001B[0m\u001B[0m\n\u001B[0m\u001B[0;32m     13\u001B[0m \u001B[1;33m\u001B[0m\u001B[0m\n\u001B[0;32m     14\u001B[0m \u001B[1;31m# print the stats for the fighter\u001B[0m\u001B[1;33m\u001B[0m\u001B[1;33m\u001B[0m\u001B[0m\n",
      "\u001B[1;31mNameError\u001B[0m: name 'combined_counts' is not defined"
     ]
    }
   ],
   "source": [
    "# get the counts for a specific fighter and his KO/TKO rate + overall stats\n",
    "fighter_name = input(\"Fighter name: \")\n",
    "win_by_value = input(\"In formats [KO/TKO][Decision - Split][Decision - Unanimous]: \")\n",
    "\n",
    "selected_rows = df.loc[df['winner'] == fighter_name]\n",
    "\n",
    "win_by_counts = selected_rows['win_by'].value_counts()\n",
    "\n",
    "win_by_counts_specific = win_by_counts.loc[win_by_value]\n",
    "\n",
    "#number of fights for a fighter\n",
    "fighter_counts = combined_counts.loc[fighter_name]\n",
    "\n",
    "# print the stats for the fighter\n",
    "print(fighter_counts)\n",
    "print(f\"{fighter_name} fought {int(fighter_counts)}x in UFC before 21/03/2021\")\n",
    "print(f\"Fighter {fighter_name} won by {win_by_value} {win_by_counts_specific}x!\")\n",
    "print(f\"\"\"{fighter_name}'s' overall stats:\n",
    "{win_by_counts}\"\"\")\n"
   ],
   "metadata": {
    "collapsed": false
   }
  }
 ],
 "metadata": {
  "kernelspec": {
   "display_name": "Python 3",
   "language": "python",
   "name": "python3"
  },
  "language_info": {
   "codemirror_mode": {
    "name": "ipython",
    "version": 2
   },
   "file_extension": ".py",
   "mimetype": "text/x-python",
   "name": "python",
   "nbconvert_exporter": "python",
   "pygments_lexer": "ipython2",
   "version": "2.7.6"
  }
 },
 "nbformat": 4,
 "nbformat_minor": 0
}
